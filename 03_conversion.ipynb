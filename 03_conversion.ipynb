{
 "cells": [
  {
   "cell_type": "code",
   "execution_count": 2,
   "id": "073c203f",
   "metadata": {},
   "outputs": [
    {
     "name": "stdout",
     "output_type": "stream",
     "text": [
      "Successfully converted json_outputs\\Jake_First_Output-qa-pairs.json to json_outputs\\Jake_First_Output-qa-pairs.csv\n"
     ]
    },
    {
     "data": {
      "text/plain": [
       "'json_outputs\\\\Jake_First_Output-qa-pairs.csv'"
      ]
     },
     "execution_count": 2,
     "metadata": {},
     "output_type": "execute_result"
    }
   ],
   "source": [
    "import json\n",
    "import csv\n",
    "import os\n",
    "\n",
    "def convert_qa_json_to_csv(json_file_path, output_csv_path=None):\n",
    "    \"\"\"\n",
    "    Convert the Q&A JSON output to CSV format\n",
    "    \n",
    "    Parameters:\n",
    "    - json_file_path: Path to the input JSON file\n",
    "    - output_csv_path: Path for the output CSV file (default: same name with .csv extension)\n",
    "    \"\"\"\n",
    "    # Determine output path if not specified\n",
    "    if not output_csv_path:\n",
    "        base_name = os.path.splitext(json_file_path)[0]\n",
    "        output_csv_path = f\"{base_name}.csv\"\n",
    "    \n",
    "    # Load the JSON data\n",
    "    with open(json_file_path, 'r', encoding='utf-8') as f:\n",
    "        data = json.load(f)\n",
    "    \n",
    "    # Prepare for CSV writing\n",
    "    with open(output_csv_path, 'w', encoding='utf-8', newline='') as csv_file:\n",
    "        writer = csv.DictWriter(csv_file, fieldnames=['file_name', 'section_id', 'question', 'answer'])\n",
    "        writer.writeheader()\n",
    "        \n",
    "        # Get the file name from the full path\n",
    "        file_name = os.path.basename(data.get('file', 'unknown'))\n",
    "        \n",
    "        # Process each section in the results\n",
    "        for section in data.get('results', []):\n",
    "            section_id = section.get('section_id', 'unknown')\n",
    "            \n",
    "            # Skip sections with errors\n",
    "            if 'error' in section:\n",
    "                continue\n",
    "            \n",
    "            # Process each Q&A pair\n",
    "            for qa_pair in section.get('qa_pairs', []):\n",
    "                question = qa_pair.get('question', '').replace('\\n', ' ').strip()\n",
    "                answer = qa_pair.get('answer', '').replace('\\n', ' ').strip()\n",
    "                \n",
    "                # Write the row\n",
    "                writer.writerow({\n",
    "                    'file_name': file_name,\n",
    "                    'section_id': section_id,\n",
    "                    'question': question,\n",
    "                    'answer': answer\n",
    "                })\n",
    "    \n",
    "    print(f\"Successfully converted {json_file_path} to {output_csv_path}\")\n",
    "    return output_csv_path\n",
    "\n",
    "# Run the conversion\n",
    "json_file = 'json_outputs\\\\Jake_First_Output-qa-pairs.json'\n",
    "output_csv = 'json_outputs\\\\Jake_First_Output-qa-pairs.csv'\n",
    "convert_qa_json_to_csv(json_file, output_csv)"
   ]
  },
  {
   "cell_type": "code",
   "execution_count": null,
   "id": "fa48bc30",
   "metadata": {},
   "outputs": [],
   "source": []
  }
 ],
 "metadata": {
  "kernelspec": {
   "display_name": "myenv",
   "language": "python",
   "name": "python3"
  },
  "language_info": {
   "codemirror_mode": {
    "name": "ipython",
    "version": 3
   },
   "file_extension": ".py",
   "mimetype": "text/x-python",
   "name": "python",
   "nbconvert_exporter": "python",
   "pygments_lexer": "ipython3",
   "version": "3.11.11"
  }
 },
 "nbformat": 4,
 "nbformat_minor": 5
}
